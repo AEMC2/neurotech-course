{
 "cells": [
  {
   "cell_type": "markdown",
   "metadata": {},
   "source": [
    "# Lab 1 - Getting started with EEG\n",
    "**Written by Pierre Karashchuk - January 2017**"
   ]
  },
  {
   "cell_type": "markdown",
   "metadata": {
    "collapsed": true
   },
   "source": [
    "In this lab, we will get started with EEG collection, preprocessing, and visualization. The methods we cover here will form the base of most of the future labs. \n",
    "\n",
    "Specifically, we will cover:\n",
    "- Recording some data using OpenBCI\n",
    "- A few data visualizations of EEG\n",
    "- Seeing physiological and external artifacts\n",
    "- Removing artifacts"
   ]
  }
 ],
 "metadata": {
  "kernelspec": {
   "display_name": "Python 3",
   "language": "python",
   "name": "python3"
  },
  "language_info": {
   "codemirror_mode": {
    "name": "ipython",
    "version": 3
   },
   "file_extension": ".py",
   "mimetype": "text/x-python",
   "name": "python",
   "nbconvert_exporter": "python",
   "pygments_lexer": "ipython3",
   "version": "3.5.2"
  }
 },
 "nbformat": 4,
 "nbformat_minor": 1
}
