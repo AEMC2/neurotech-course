{
 "cells": [
  {
   "cell_type": "markdown",
   "metadata": {
    "colab_type": "text",
    "id": "z2SmsSoE70JA"
   },
   "source": [
    "# **Welcome to Lecture 5 of CS 198-96: Intro to Neurotechnology**\n",
    "\n",
    "We have created this notebook to prepare you for future endeavors in the area of neurotechnology by giving you exposure to real world applications of the material via Python (numpy, matplotlib etc). \n",
    "\n",
    "We do not expect everyone to have coding skills. For this reason, we have created a very basic notebook through which you can gain comprehensible knowledge. \n",
    "\n",
    "We hope that you find this notebook informative and fun. We welcome and encourage any feedback you have on them - it's an invaluable source of data for us. We'll be including a Google Form where you can provide us with anonymous feedback :) \n",
    "\n",
    "You can't learn technical subjects without hands-on practice. In this notebook, you'll learn how to:\n",
    "\n",
    "*  navigate Jupyter notebooks\n",
    "*  write and evaluate some basic expressions in Python, which is one of the computer languages for data processing.\n",
    "*  use libraries \n",
    "*  plot \n",
    "\n",
    "If you feel that you are comfortable with how python and jupyter notebookes work, you can skim through the notebook, although we encourage everyone to complete the entire notebook!\n",
    "\n",
    "\n",
    "Now let's get started!"
   ]
  },
  {
   "cell_type": "code",
   "execution_count": 1,
   "metadata": {},
   "outputs": [
    {
     "name": "stdout",
     "output_type": "stream",
     "text": [
      "hello\n"
     ]
    }
   ],
   "source": [
    "print(\"hello\")"
   ]
  },
  {
   "cell_type": "markdown",
   "metadata": {
    "colab_type": "text",
    "id": "Qk5EX9Bb9EXI"
   },
   "source": [
    "For the next couple of problems, you are not required to write any code. Simply run all the cells and acquaint yourself with the functions and features, as many of you are likely familiar with the Python programming language from CS 61A and beyond. Nevertheless, if you'd like a refresher, feel free to run through the code cells.\n"
   ]
  },
  {
   "cell_type": "markdown",
   "metadata": {
    "colab_type": "text",
    "id": "9FetCdC4_Ec2"
   },
   "source": [
    "# Jupyter notebooks \n",
    "This webpage is called a Jupyter notebook. A notebook is a place to write programs and view their results, and also to write text. Here are a couple of things you should know about Jupyter specifics.\n",
    "\n",
    "**Interrupting/Restarting the kernel**\n",
    "\n",
    "For debugging, often we would like to interupt the current running process. This can be done by pressing the stop button.\n",
    "\n",
    "When a processing is running, the circle on the right upper corner is filled. When idle, the circle is empty.\n",
    "\n",
    "Interrupting sometimes does not work. You can reset the state by restarting the kernel. This is done by clicking Kernel/Restart or the Refresh button in the toolbar above.\n",
    "\n",
    "**Errors**\n",
    "\n",
    "Whenever you write code, you are bound to make mistakes. When you run a code cell that has errors, Python will sometimes produce error messages to tell you what you did wrong.\n",
    "\n",
    "Errors happen all the time; even experienced programmers make many errors. When you make an error, you just have to find the source of the problem, fix it, and continue.\n",
    "\n",
    "**Saving the notebook**\n",
    "Select \"File->Save and Checkpoint\" or hit Command-s for Mac and Ctrl-s for Windows\n",
    "\n",
    "**Undoing**\n",
    "To undo changes in each cell, hit Command-z for Mac and Ctrl-z for Windows. To undo Delete Cell, select Edit->Undo Delete Cell.\n",
    "\n",
    "\n",
    "## Cells\n",
    "In a notebook, each rectangle containing text or code is called a cell.\n",
    "Cells  can be edited by double-clicking on them. \n",
    "\n",
    "To add a new cell, either select \"Insert->Insert New Cell Below\" or click the white plus button"
   ]
  },
  {
   "cell_type": "markdown",
   "metadata": {
    "colab_type": "text",
    "id": "xlhvL6kw9lR3"
   },
   "source": [
    "**Running Notebook Cells**\n",
    "As mentioned before, python notebook is divided into cells. Each cell can contain texts, codes or html scripts. Running a non-code cell simply advances to the next cell. As introduced above, to run a code cell using Shift-Enter or pressing the play button in the toolbar above:"
   ]
  },
  {
   "cell_type": "code",
   "execution_count": 0,
   "metadata": {
    "colab": {
     "base_uri": "https://localhost:8080/",
     "height": 34
    },
    "colab_type": "code",
    "id": "9tihLIRG17t4",
    "outputId": "f46fd67f-f6a3-43fa-c71f-1870a84e278c"
   },
   "outputs": [
    {
     "data": {
      "text/plain": [
       "3"
      ]
     },
     "execution_count": 1,
     "metadata": {
      "tags": []
     },
     "output_type": "execute_result"
    }
   ],
   "source": [
    "1 + 2"
   ]
  },
  {
   "cell_type": "markdown",
   "metadata": {
    "colab_type": "text",
    "id": "FKojlKzY_X4y"
   },
   "source": [
    "See! Python works almost like a calculator. It can use basic functions such as add, multiply etc.. \n",
    "\n",
    "Now, try running this cell."
   ]
  },
  {
   "cell_type": "code",
   "execution_count": 0,
   "metadata": {
    "colab": {},
    "colab_type": "code",
    "id": "qVMuCOSvAzwm"
   },
   "outputs": [],
   "source": [
    "3 * 3"
   ]
  },
  {
   "cell_type": "markdown",
   "metadata": {
    "colab_type": "text",
    "id": "vgnZhULEBR6H"
   },
   "source": [
    "The common operator that differs from typical math notation is 2**3 stands for  2^3  and evaluates to 8., This raises one number to the power of the other. \n",
    "\n",
    "The order of operations is the same that you learn in any math class."
   ]
  },
  {
   "cell_type": "code",
   "execution_count": 0,
   "metadata": {
    "colab": {
     "base_uri": "https://localhost:8080/",
     "height": 34
    },
    "colab_type": "code",
    "id": "hS15POOwBnkr",
    "outputId": "ccbc9559-0931-47be-9a60-463a7b240397"
   },
   "outputs": [
    {
     "data": {
      "text/plain": [
       "2020.0"
      ]
     },
     "execution_count": 2,
     "metadata": {
      "tags": []
     },
     "output_type": "execute_result"
    }
   ],
   "source": [
    "4+(6*5-(6*3))**2*((2**3)/4*7)"
   ]
  },
  {
   "cell_type": "markdown",
   "metadata": {
    "colab_type": "text",
    "id": "T4MVEy9wA4Uc"
   },
   "source": [
    "The fundamental building block of Python code is an expression. Every print expression prints a line. Run the following cell."
   ]
  },
  {
   "cell_type": "code",
   "execution_count": 0,
   "metadata": {
    "colab": {},
    "colab_type": "code",
    "id": "jRjxYW0-_rZE"
   },
   "outputs": [],
   "source": [
    "print(\"I love Neurotech!\")"
   ]
  },
  {
   "cell_type": "markdown",
   "metadata": {
    "colab_type": "text",
    "id": "_Sj9KQgv94zR"
   },
   "source": [
    "\n",
    "Strings\n",
    "Double quotes (\"I am double quoted!\") and single quotes ('I, however, am single quoted') are the same thing represent strings. '+' concatenates strings\n",
    "\n",
    "We can mix and match single and double quotes and Python won't care\n"
   ]
  },
  {
   "cell_type": "markdown",
   "metadata": {
    "colab_type": "text",
    "id": "p7qAgcmFFzW2"
   },
   "source": [
    "### Floats and Integers\n",
    "\n"
   ]
  },
  {
   "cell_type": "code",
   "execution_count": 0,
   "metadata": {
    "colab": {},
    "colab_type": "code",
    "id": "x2BwC77i_p6s"
   },
   "outputs": [],
   "source": []
  },
  {
   "cell_type": "markdown",
   "metadata": {
    "colab_type": "text",
    "id": "uX1DPRUmHAzI"
   },
   "source": [
    "### Lists\n",
    "\n",
    "A list is a mutable array of data. That is we can change it after we create it. They can be created using square brackets [ ]\n",
    "\n",
    "\n",
    "Important functions: \n",
    "- `'+'` appends lists. \n",
    "- `len(x)` to get length"
   ]
  },
  {
   "cell_type": "code",
   "execution_count": 0,
   "metadata": {
    "colab": {
     "base_uri": "https://localhost:8080/",
     "height": 34
    },
    "colab_type": "code",
    "id": "Agn-g-mLHANq",
    "outputId": "4efc13a9-7d89-4944-8b91-c0e016d8be4a"
   },
   "outputs": [
    {
     "name": "stdout",
     "output_type": "stream",
     "text": [
      "['CS', 1, 9, 8, 9, 6]\n"
     ]
    }
   ],
   "source": [
    "x = [\"CS\"] + [1, 9, 8,] + [9, 6]\n",
    "print(x)"
   ]
  },
  {
   "cell_type": "code",
   "execution_count": 0,
   "metadata": {
    "colab": {
     "base_uri": "https://localhost:8080/",
     "height": 34
    },
    "colab_type": "code",
    "id": "PhbhRsKc0pV8",
    "outputId": "e3d58575-ef88-4dac-8b77-28194fe51559"
   },
   "outputs": [
    {
     "name": "stdout",
     "output_type": "stream",
     "text": [
      "6\n"
     ]
    }
   ],
   "source": [
    "print(len(x)) #this will print out the length of the list"
   ]
  },
  {
   "cell_type": "markdown",
   "metadata": {
    "colab_type": "text",
    "id": "5mo9lXaIlHU8"
   },
   "source": [
    "# Functions\n",
    "\n",
    "Mathematical functions map inputs to transformed outputs."
   ]
  },
  {
   "cell_type": "markdown",
   "metadata": {
    "colab_type": "text",
    "id": "K0ZWj_V7lYRv"
   },
   "source": [
    "Run the following cell."
   ]
  },
  {
   "cell_type": "code",
   "execution_count": 0,
   "metadata": {
    "colab": {},
    "colab_type": "code",
    "id": "YZQPfNVoFfoO"
   },
   "outputs": [],
   "source": [
    "def hello_world(name):\n",
    "  return 'Hello '+name"
   ]
  },
  {
   "cell_type": "markdown",
   "metadata": {
    "colab_type": "text",
    "id": "NrVkJwWXlbO0"
   },
   "source": [
    "Now put your name in the parantheses instead of \"your_name\" and run the cell."
   ]
  },
  {
   "cell_type": "code",
   "execution_count": 0,
   "metadata": {
    "colab": {
     "base_uri": "https://localhost:8080/",
     "height": 34
    },
    "colab_type": "code",
    "id": "BQ6CbaOnczRk",
    "outputId": "680762f1-f533-470f-d9ce-5afbae5a81c8"
   },
   "outputs": [
    {
     "data": {
      "text/plain": [
       "'Hello milo'"
      ]
     },
     "execution_count": 13,
     "metadata": {
      "tags": []
     },
     "output_type": "execute_result"
    }
   ],
   "source": [
    "hello_world('your_name')"
   ]
  },
  {
   "cell_type": "markdown",
   "metadata": {
    "colab_type": "text",
    "id": "vUTwR0mRl_Bd"
   },
   "source": [
    "If you look at the anatomy of the code:\n",
    "\n",
    "The **def**  statement marks the start of function header in which you specify the name of the function and the arguments through which we pass values to a function.\n",
    "\n",
    "The **return** statement will give the result of some computation back to the caller of the function and exit the function. For example, the function square below takes in a number x and returns its square."
   ]
  },
  {
   "cell_type": "markdown",
   "metadata": {
    "colab_type": "text",
    "id": "RV1z4hp2lm8E"
   },
   "source": [
    "Another example would be the following:\n",
    "\n"
   ]
  },
  {
   "cell_type": "code",
   "execution_count": 0,
   "metadata": {
    "colab": {},
    "colab_type": "code",
    "id": "erM8Ga-Ullux"
   },
   "outputs": [],
   "source": [
    "def square(x):\n",
    "\ty = x*x\n",
    "\treturn y"
   ]
  },
  {
   "cell_type": "code",
   "execution_count": 0,
   "metadata": {
    "colab": {
     "base_uri": "https://localhost:8080/",
     "height": 34
    },
    "colab_type": "code",
    "id": "4duDfUqNm6iK",
    "outputId": "511f6ebd-3c0a-44cd-c6fc-a88e41ba7b62"
   },
   "outputs": [
    {
     "data": {
      "text/plain": [
       "16"
      ]
     },
     "execution_count": 6,
     "metadata": {
      "tags": []
     },
     "output_type": "execute_result"
    }
   ],
   "source": [
    "square(4)"
   ]
  },
  {
   "cell_type": "markdown",
   "metadata": {
    "colab_type": "text",
    "id": "dkDw4RS_FKgb"
   },
   "source": [
    "**Libraries**\n",
    "\n",
    "These are the libraries that we will be using in this class:\n",
    "\n",
    "*Numpy*\n",
    "\n",
    "NumPy is the fundamental package for scientific computing with Python.\n",
    "\n",
    "*Scipy*\n",
    "\n",
    "The SciPy library is a collection of numerical algorithms and domain-specific toolboxes, including signal processing, optimization, statistics and much more.\n",
    "\n",
    "*matplotlib*\n",
    "\n",
    "matplotlib is a python 2D plotting library which produces publication quality figures in a variety of hardcopy formats and interactive environments across platforms.\n",
    "\n",
    "Each numpy and matplotlib are both very systematic, in the sense that you're usually not calling one-off functions from them, but rather using them throughout your code, almost like a sort of sub-programming language inside Python. Scipy, on the other hand, is more of a collection of various useful functions that you'll look up when you need to do something really specific that numpy doesn't have, like digital filter design.\n",
    "\n",
    "Importing\n",
    "To import a specific library x, simply type import x.\n",
    "\n",
    "To access the library function f, type x.f.\n",
    "\n",
    "If you want to change the library name to y, type import x as y."
   ]
  },
  {
   "cell_type": "markdown",
   "metadata": {
    "colab_type": "text",
    "id": "k9jvhHA0Flxj"
   },
   "source": [
    "# Introduction to NumPy\n",
    "\n",
    "NumPy is a package that has many functions available for statistical analysis.\n",
    "\n",
    "**Importing**\n",
    "\n",
    "To import a specific library x, simply type import x.\n",
    "\n",
    "To access the library function f, type x.f.\n",
    "\n",
    "If you want to change the library name to y, type import x as y.\n",
    " For example, the equation to find the mean is this: \n",
    "\n",
    "INSERT IMAGE OF EQUATION.\n",
    "\n",
    "This might seem difficult when trying to work with larger data sets.\n"
   ]
  },
  {
   "cell_type": "code",
   "execution_count": 0,
   "metadata": {
    "colab": {},
    "colab_type": "code",
    "id": "kFWUsUCPGcz7"
   },
   "outputs": [],
   "source": [
    "# CONVENTION: \"import numpy as np\" when importing numpy, it lets us use \"np\" as shorthand (this is the convention)\n",
    "import numpy as np"
   ]
  },
  {
   "cell_type": "markdown",
   "metadata": {
    "colab_type": "text",
    "id": "kJeNmK14Gli6"
   },
   "source": [
    "Now run the following cell. "
   ]
  },
  {
   "cell_type": "code",
   "execution_count": 0,
   "metadata": {
    "colab": {
     "base_uri": "https://localhost:8080/",
     "height": 34
    },
    "colab_type": "code",
    "id": "TSMA45rNGoYQ",
    "outputId": "7cc418dd-3137-43dd-cf90-566d33f78683"
   },
   "outputs": [
    {
     "data": {
      "text/plain": [
       "4.5"
      ]
     },
     "execution_count": 2,
     "metadata": {
      "tags": []
     },
     "output_type": "execute_result"
    }
   ],
   "source": [
    "np.mean([1,3,6,10,6,4,4,3,2,6])"
   ]
  },
  {
   "cell_type": "markdown",
   "metadata": {
    "colab_type": "text",
    "id": "I-QOxRukG19-"
   },
   "source": [
    "Now let's try to compute the variance of the same dataset. "
   ]
  },
  {
   "cell_type": "code",
   "execution_count": 0,
   "metadata": {
    "colab": {
     "base_uri": "https://localhost:8080/",
     "height": 34
    },
    "colab_type": "code",
    "id": "5elXgQrvG6gj",
    "outputId": "1e42583d-ceb7-4a60-c8bb-06a9ce15c52f"
   },
   "outputs": [
    {
     "data": {
      "text/plain": [
       "6.05"
      ]
     },
     "execution_count": 4,
     "metadata": {
      "tags": []
     },
     "output_type": "execute_result"
    }
   ],
   "source": [
    "np.var([1,3,6,10,6,4,4,3,2,6])"
   ]
  },
  {
   "cell_type": "markdown",
   "metadata": {
    "colab_type": "text",
    "id": "GjqPCVBYhg_y"
   },
   "source": [
    "**Numpy Array**\n",
    "\n",
    "The numpy array, aka an \"ndarray\", is like a list with multidimensional support and more functions. This will be the primary data structure in our class.\n",
    "\n",
    "Arithmetic operations on NumPy arrays correspond to elementwise operations.\n",
    "\n",
    "Important NumPy Array functions:\n",
    "\n",
    ".shape returns the dimensions of the array.\n",
    "\n",
    ".ndim returns the number of dimensions.\n",
    "\n",
    ".size returns the number of entries in the array.\n",
    "\n",
    "len() returns the first dimension.\n",
    "\n",
    "To use functions in NumPy, we have to import NumPy to our workspace. This is done by the command import numpy. By convention, we rename numpy as np for convenience."
   ]
  },
  {
   "cell_type": "markdown",
   "metadata": {
    "colab_type": "text",
    "id": "PB2fekxRiy0P"
   },
   "source": [
    "**Creating an array**"
   ]
  },
  {
   "cell_type": "code",
   "execution_count": 0,
   "metadata": {
    "colab": {},
    "colab_type": "code",
    "id": "yCAufDNii4vD"
   },
   "outputs": [],
   "source": [
    "x = np.array([[1, 2], [3 , 4]])\n",
    "print(x)"
   ]
  },
  {
   "cell_type": "markdown",
   "metadata": {
    "colab_type": "text",
    "id": "aAX2I-r5jLTR"
   },
   "source": [
    "**Slicing numpy arrays**\n",
    "\n",
    "Numpy uses pass-by-reference semantics so it creates views into the existing array, without implicit copying. This is particularly helpful with very large arrays because copying can be slow."
   ]
  },
  {
   "cell_type": "code",
   "execution_count": 0,
   "metadata": {
    "colab": {
     "base_uri": "https://localhost:8080/",
     "height": 181
    },
    "colab_type": "code",
    "id": "lLQLv2U6jWO2",
    "outputId": "9757888d-4256-45fa-a99e-21cb1443aeae"
   },
   "outputs": [
    {
     "ename": "NameError",
     "evalue": "ignored",
     "output_type": "error",
     "traceback": [
      "\u001b[0;31m---------------------------------------------------------------------------\u001b[0m",
      "\u001b[0;31mNameError\u001b[0m                                 Traceback (most recent call last)",
      "\u001b[0;32m<ipython-input-1-6db9ff6b05ce>\u001b[0m in \u001b[0;36m<module>\u001b[0;34m()\u001b[0m\n\u001b[0;32m----> 1\u001b[0;31m \u001b[0mx\u001b[0m \u001b[0;34m=\u001b[0m \u001b[0mnp\u001b[0m\u001b[0;34m.\u001b[0m\u001b[0marray\u001b[0m\u001b[0;34m(\u001b[0m\u001b[0;34m[\u001b[0m\u001b[0;36m1\u001b[0m\u001b[0;34m,\u001b[0m\u001b[0;36m2\u001b[0m\u001b[0;34m,\u001b[0m\u001b[0;36m3\u001b[0m\u001b[0;34m,\u001b[0m\u001b[0;36m4\u001b[0m\u001b[0;34m,\u001b[0m\u001b[0;36m5\u001b[0m\u001b[0;34m,\u001b[0m\u001b[0;36m6\u001b[0m\u001b[0;34m]\u001b[0m\u001b[0;34m)\u001b[0m\u001b[0;34m\u001b[0m\u001b[0;34m\u001b[0m\u001b[0m\n\u001b[0m\u001b[1;32m      2\u001b[0m \u001b[0mprint\u001b[0m\u001b[0;34m(\u001b[0m\u001b[0mx\u001b[0m\u001b[0;34m)\u001b[0m\u001b[0;34m\u001b[0m\u001b[0;34m\u001b[0m\u001b[0m\n",
      "\u001b[0;31mNameError\u001b[0m: name 'np' is not defined"
     ]
    }
   ],
   "source": [
    "x = np.array([1,2,3,4,5,6])\n",
    "print(x)"
   ]
  },
  {
   "cell_type": "markdown",
   "metadata": {
    "colab_type": "text",
    "id": "t5X2IX_RjX6H"
   },
   "source": [
    "We slice an array from a to b-1 with [a:b]."
   ]
  },
  {
   "cell_type": "code",
   "execution_count": 0,
   "metadata": {
    "colab": {},
    "colab_type": "code",
    "id": "trd9KqGkjaYG"
   },
   "outputs": [],
   "source": [
    "y = x[0:4]\n",
    "print(y)"
   ]
  },
  {
   "cell_type": "markdown",
   "metadata": {
    "colab_type": "text",
    "id": "r4x2fgywlPvH"
   },
   "source": [
    "Because slicing does not copy the array, changing `y` changes `x`."
   ]
  },
  {
   "cell_type": "code",
   "execution_count": 0,
   "metadata": {
    "colab": {},
    "colab_type": "code",
    "id": "AnZX21Vkla6H"
   },
   "outputs": [],
   "source": [
    "y[0] = 7\n",
    "print(x)\n",
    "print(y)"
   ]
  },
  {
   "cell_type": "markdown",
   "metadata": {
    "colab_type": "text",
    "id": "tzS7CU1glX16"
   },
   "source": [
    "To actually copy x, we should use .copy()."
   ]
  },
  {
   "cell_type": "code",
   "execution_count": 0,
   "metadata": {
    "colab": {},
    "colab_type": "code",
    "id": "ZEw12b38lb22"
   },
   "outputs": [],
   "source": [
    "x = np.array([1,2,3,4,5,6])\n",
    "y = x.copy()\n",
    "y[0] = 7\n",
    "print(x)\n",
    "print(y)"
   ]
  },
  {
   "cell_type": "markdown",
   "metadata": {
    "colab_type": "text",
    "id": "heHu1cc0liC-"
   },
   "source": [
    "**Numpy function: arange**\n",
    "\n",
    "We use `arange` to create integer sequences in numpy arrays. It's exactly like the normal range function in Python, except that it automatically returns the result as a numpy array, rather than the plain vanilla Python list.\n",
    "\n",
    "`arange(0,N)` creates an array listing every integer from 0 to N-1.\n",
    "\n",
    "`arange(0,N,m)` creates an array listing every `m` th integer from 0 to N-1 ."
   ]
  },
  {
   "cell_type": "code",
   "execution_count": 0,
   "metadata": {
    "colab": {},
    "colab_type": "code",
    "id": "IfW4PE6zlrNN"
   },
   "outputs": [],
   "source": [
    "print(np.arange(-5,5)) # every integer from -5 ... 4"
   ]
  },
  {
   "cell_type": "code",
   "execution_count": 0,
   "metadata": {
    "colab": {},
    "colab_type": "code",
    "id": "QQbLCaqClsS_"
   },
   "outputs": [],
   "source": [
    "print(np.arange(0,5,2)) # every other integer from 0 ... 4"
   ]
  },
  {
   "cell_type": "markdown",
   "metadata": {
    "colab_type": "text",
    "id": "l9k0EGrzHunP"
   },
   "source": [
    "Numpy user guide and basics: https://numpy.org/devdocs/user/absolute_beginners.html"
   ]
  },
  {
   "cell_type": "markdown",
   "metadata": {
    "colab_type": "text",
    "id": "XxgxPBsGmA2v"
   },
   "source": [
    "#Plotting\n",
    "Let's learn how to plot!\n",
    "\n",
    "In this class, we will use matplotlib.pyplot to plot signals and images.\n",
    "\n",
    "By convention, we import matplotlib.pyplot as plt.\n",
    "\n",
    "To display the plots inside the browser, we use the command %matplotlib inline - do not forget this line whenever you start a new notebook. We'll always include it for you, but in case your plots aren't showing up in the notebook when you're playing around on your own, it's probably because you forgot this. If you don't include it, Python will default to displaying it in another window on your computer, which normally is fine, but here we need the plots in the notebook so they show up in your submission PDF."
   ]
  },
  {
   "cell_type": "code",
   "execution_count": 0,
   "metadata": {
    "colab": {},
    "colab_type": "code",
    "id": "6GP0WEyHHCCf"
   },
   "outputs": [],
   "source": [
    "import matplotlib.pyplot as plt\n",
    "\n",
    "# plot in browser instead of opening new windows\n",
    "%matplotlib inline"
   ]
  },
  {
   "cell_type": "code",
   "execution_count": 0,
   "metadata": {
    "colab": {},
    "colab_type": "code",
    "id": "9zxKH37Xl2Hx"
   },
   "outputs": [],
   "source": [
    "x = np.arange(0, 1, 0.001)\n",
    "y1 = np.exp(-x)                              # decaying exponential\n",
    "y2 = np.sin(2 * np.pi * 10.0 * x)/4.0 + 0.5"
   ]
  },
  {
   "cell_type": "code",
   "execution_count": 0,
   "metadata": {
    "colab": {
     "base_uri": "https://localhost:8080/",
     "height": 265
    },
    "colab_type": "code",
    "id": "yVuc3XZ_l-Gw",
    "outputId": "45429f66-f3d4-4196-ef7f-643f76dce94f"
   },
   "outputs": [
    {
     "data": {
      "image/png": "[encoded data removed]",
      "text/plain": [
       "<Figure size 432x288 with 1 Axes>"
      ]
     },
     "metadata": {
      "tags": []
     },
     "output_type": "display_data"
    }
   ],
   "source": [
    "plt.figure()\n",
    "plt.plot(x, y1)\n",
    "plt.show()"
   ]
  },
  {
   "cell_type": "code",
   "execution_count": 0,
   "metadata": {
    "colab": {
     "base_uri": "https://localhost:8080/",
     "height": 265
    },
    "colab_type": "code",
    "id": "hILP9TyYmZp3",
    "outputId": "a0e99a53-d21c-4106-8468-de0b1331e5f2"
   },
   "outputs": [
    {
     "data": {
      "image/png": "[encoded data removed]",
      "text/plain": [
       "<Figure size 432x288 with 1 Axes>"
      ]
     },
     "metadata": {
      "tags": []
     },
     "output_type": "display_data"
    }
   ],
   "source": [
    "plt.figure()\n",
    "plt.plot(x, y1)\n",
    "plt.plot(x, y2)\n",
    "plt.show()"
   ]
  }
 ],
 "metadata": {
  "colab": {
   "collapsed_sections": [],
   "name": "Python Crash Course",
   "provenance": [],
   "toc_visible": true
  },
  "kernelspec": {
   "display_name": "Python 3",
   "language": "python",
   "name": "python3"
  },
  "language_info": {
   "codemirror_mode": {
    "name": "ipython",
    "version": 3
   },
   "file_extension": ".py",
   "mimetype": "text/x-python",
   "name": "python",
   "nbconvert_exporter": "python",
   "pygments_lexer": "ipython3",
   "version": "3.7.4"
  }
 },
 "nbformat": 4,
 "nbformat_minor": 1
}
