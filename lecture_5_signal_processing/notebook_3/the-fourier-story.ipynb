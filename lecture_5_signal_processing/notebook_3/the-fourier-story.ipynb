{
 "cells": [
  {
   "cell_type": "markdown",
   "metadata": {},
   "source": [
    "# The Fourier Story (CS 198-96: Intro to Neurotechnology)\n",
    "### v1 (Spring 2020) - Deven Navani"
   ]
  },
  {
   "cell_type": "markdown",
   "metadata": {},
   "source": [
    "In 1807, French mathematician and physicist **Jean Baptiste Joesph Fourier** made the controversial claim that any **continuous periodic signal** could be represented as the sum of properly chosen sinusoidal waves (sines and cosines). The claim was protested by some of the world's most famous mathematicians, such as Joseph Louis Lagrange. Fourier's paper was finally published 15 years later."
   ]
  },
  {
   "cell_type": "code",
   "execution_count": null,
   "metadata": {},
   "outputs": [],
   "source": [
    "Why do we care about decomposing "
   ]
  },
  {
   "cell_type": "markdown",
   "metadata": {},
   "source": [
    "Below, we will walk through various forms of Fourier analysis. Each outputs a so-called **\"frequency spectrum\"**."
   ]
  },
  {
   "cell_type": "markdown",
   "metadata": {},
   "source": [
    "### An Important Note on Signal Length"
   ]
  },
  {
   "cell_type": "markdown",
   "metadata": {},
   "source": [
    "Fourier analysis only works with infinite-length signals. Why is this? Sines and cosines are infinite-length by definition and we cannot use a collection of infite length signals to compose a finite-length signal."
   ]
  },
  {
   "cell_type": "markdown",
   "metadata": {},
   "source": [
    "You will see how we deal with finite-length signals below."
   ]
  },
  {
   "cell_type": "markdown",
   "metadata": {},
   "source": [
    "### A Side Note on Periodicity"
   ]
  },
  {
   "cell_type": "markdown",
   "metadata": {},
   "source": [
    "A continuous signal $x(t)$ is periodic with period $T$ if, for all $t$, $x(t+T) = x(t)$. The smallest such $T$ is called the **fundamental period**. Any integer multiple of the fundamental period is also a period. In addition, $\\omega_{0} = \\frac{2\\pi}{T}$ is called the **fundamental frequency**."
   ]
  },
  {
   "cell_type": "markdown",
   "metadata": {},
   "source": [
    "A discrete signal $x[n]$ is periodic with period $N$ if, for all $n$, $x[n+N] = x[n]$. The fundamental frequency here is $\\omega_{0} = \\frac{2\\pi}{N}$."
   ]
  },
  {
   "cell_type": "markdown",
   "metadata": {},
   "source": [
    "A signal that is not periodic is said to be **aperiodic**."
   ]
  },
  {
   "cell_type": "markdown",
   "metadata": {},
   "source": [
    "## Continuous Time Fourier Series (CTFS)"
   ]
  },
  {
   "cell_type": "markdown",
   "metadata": {},
   "source": [
    "We previously mentioned we would only be working with discrete-time signals in this course. This is correct. However, to fully understand the Discrete Fourier Transform (DFT), it is important that we start here."
   ]
  },
  {
   "cell_type": "markdown",
   "metadata": {},
   "source": [
    "The Continuous Time Fourier Series (CTFS) applies to continuous, periodic signals, as the one below."
   ]
  },
  {
   "cell_type": "markdown",
   "metadata": {},
   "source": [
    "![continuous-periodic](continuous-periodic.png)"
   ]
  },
  {
   "cell_type": "markdown",
   "metadata": {},
   "source": [
    "Say we have a continuous, periodic signal $x(t)$. The CTFS has the form:\n",
    "\n",
    "$$x(t) = \\sum_{k=-\\infty}^{\\infty} a_ke^{jk\\omega_{0}t}$$\n",
    "\n",
    "$e^{i\\theta} = cos(\\theta) + i*sin(\\theta)$"
   ]
  },
  {
   "cell_type": "markdown",
   "metadata": {},
   "source": [
    "This is called the \"synthesis equation\" because it is synthesizing our signal $x(t)$ from sinusoidal components, whose frequencies are integer multiples of our fundamental frequency."
   ]
  },
  {
   "cell_type": "markdown",
   "metadata": {},
   "source": [
    "One can derive the \"analysis equation\" to calculate any CTFS coefficient:\n",
    "\n",
    "$$ a_n = \\frac{1}{T}\\int_{0}^{T} x(t)e^{-jn\\omega_0t}dt$$"
   ]
  },
  {
   "cell_type": "markdown",
   "metadata": {},
   "source": [
    "## Continuous Time Fourier Tranform (CTFT)"
   ]
  },
  {
   "cell_type": "markdown",
   "metadata": {},
   "source": [
    "So what if our signal $x(t)$ is continuous but *aperiodic*, as below?"
   ]
  },
  {
   "cell_type": "markdown",
   "metadata": {},
   "source": [
    "![continuous-aperiodic](continuous-aperiodic.png)"
   ]
  },
  {
   "cell_type": "markdown",
   "metadata": {},
   "source": [
    "Note that because this signal is aperiodic, it is also finite in length, which as we described above isn't compatible with Fourier analysis."
   ]
  },
  {
   "cell_type": "markdown",
   "metadata": {},
   "source": [
    "In this case, we use the Continuous Time Fourier Transform (CTFT), which has the form:\n",
    "\n",
    "$$X(\\omega) = \\int_{-\\infty}^{\\infty} x(t)e^{-j\\omega t}dt$$"
   ]
  },
  {
   "cell_type": "markdown",
   "metadata": {},
   "source": [
    "This definition comes from treating the aperiodic signal $x(t)$ as periodic, and then taking the limit as $T \\rightarrow \\infty$. As $T$ increases, the fundamental frequency $\\omega_{0} = \\frac{2\\pi}{T}$ decreases and the harmonic components become closer in frequency, forming a continuum."
   ]
  },
  {
   "cell_type": "markdown",
   "metadata": {},
   "source": [
    "Note that unlike the CTFS, the CTFT produces a *continuous* frequency spectrum."
   ]
  },
  {
   "cell_type": "markdown",
   "metadata": {},
   "source": [
    "To recover our signal $x(t)$, we use the following \"analysis equation\":\n",
    "\n",
    "$$x(t) = \\frac{1}{2\\pi} \\int_{-\\infty}^{\\infty} X(\\omega)e^{j\\omega t} d\\omega$$"
   ]
  },
  {
   "cell_type": "markdown",
   "metadata": {},
   "source": [
    "## Discrete Time Fourier Series (DTFS)"
   ]
  },
  {
   "cell_type": "markdown",
   "metadata": {},
   "source": [
    "Computers can only work with discrete signals, because representing real values requires infinite memory. So, what does Fourier analysis look like for a discrete, periodic signal, as the one below?"
   ]
  },
  {
   "cell_type": "markdown",
   "metadata": {},
   "source": [
    "![discrete-periodic](discrete-periodic.png)"
   ]
  },
  {
   "cell_type": "markdown",
   "metadata": {},
   "source": [
    "We use the Discrete Time Fourier Series (DTFS), which has the following synthesis equation:\n",
    "\n",
    "$$x[n] = \\sum_{k=\\langle N \\rangle}^{} a_ke^{jk\\omega_{0}n}$$\n"
   ]
  },
  {
   "cell_type": "markdown",
   "metadata": {},
   "source": [
    "$k=\\langle N \\rangle$ means any set of $N$ successive integers. Why do we only need $N$ sinusoidals? Because of the following math:\n",
    "\n",
    "$$e^{j(k+N)\\omega_{0}n} = e^{jk\\omega_{0}n}e^{jN\\omega_{0}n} = e^{jk\\omega_{0}n}e^{j2\\pi n} = e^{jk\\omega_{0}n}$$"
   ]
  },
  {
   "cell_type": "markdown",
   "metadata": {},
   "source": [
    "## Discrete Time Fourier Transform (DTFT)"
   ]
  },
  {
   "cell_type": "markdown",
   "metadata": {},
   "source": [
    "Similarly, what if our signal is discrete but *aperiodic*, as below?"
   ]
  },
  {
   "cell_type": "markdown",
   "metadata": {},
   "source": [
    "![discrete-aperiodic](discrete-aperiodic.png)"
   ]
  },
  {
   "cell_type": "markdown",
   "metadata": {},
   "source": [
    "Note that because this signal is aperiodic, it is also finite in length, which as we described above isn't compatible with Fourier analysis."
   ]
  },
  {
   "cell_type": "markdown",
   "metadata": {},
   "source": [
    "In this case, we use the Discrete Time Fourier Transform (DTFT), which has the form:\n",
    "\n",
    "$$X(e^{j \\omega}) = \\sum_{n=-\\infty}^{\\infty} x[n]e^{-j\\omega n}$$"
   ]
  },
  {
   "cell_type": "markdown",
   "metadata": {},
   "source": [
    "This equation is achieved in a similar fashion as the CTFT equation."
   ]
  },
  {
   "cell_type": "markdown",
   "metadata": {},
   "source": [
    "## Discrete Fourier Transform (DFT)"
   ]
  },
  {
   "cell_type": "markdown",
   "metadata": {},
   "source": [
    "The Discrete Fourier Transform (DFT) is very similar to the DTFT, except that it produces a discrete frequency spectrum as opposed to a continuous one."
   ]
  },
  {
   "cell_type": "markdown",
   "metadata": {},
   "source": [
    "The DFT is essentially a discrete version of the DTFT. The only change we make is the range of summation, from an infinite number of harmonics to a finite number. We do this by replacing the $\\omega$ in the DTFT equation with $2\\pi\\frac{n}{N}$ for $0 \\le n \\le N-1$. This gives us the following DFT equation:\n",
    "\n",
    "$$X(n) = \\sum_{k = 0}^{N-1} x[k]e^{-j(2\\pi k n / N)}$$"
   ]
  },
  {
   "cell_type": "markdown",
   "metadata": {},
   "source": [
    "## The Fast Fourier Transform (FFT), a DFT algorithm"
   ]
  },
  {
   "cell_type": "markdown",
   "metadata": {},
   "source": [
    "The FFT is the go-to way to calculate the DFT of a signal. We will go over the FFT in more detail when we start working with actual datasets."
   ]
  }
 ],
 "metadata": {
  "kernelspec": {
   "display_name": "Python 3",
   "language": "python",
   "name": "python3"
  },
  "language_info": {
   "codemirror_mode": {
    "name": "ipython",
    "version": 3
   },
   "file_extension": ".py",
   "mimetype": "text/x-python",
   "name": "python",
   "nbconvert_exporter": "python",
   "pygments_lexer": "ipython3",
   "version": "3.7.3"
  }
 },
 "nbformat": 4,
 "nbformat_minor": 4
}
