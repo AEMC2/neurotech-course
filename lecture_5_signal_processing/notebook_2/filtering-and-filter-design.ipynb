{
 "cells": [
  {
   "cell_type": "markdown",
   "metadata": {},
   "source": [
    "# Filtering and Filter Design (CS 198-96: Intro to Neurotechnology)\n",
    "### v1 (Spring 2020) - Deven Navani"
   ]
  },
  {
   "cell_type": "markdown",
   "metadata": {},
   "source": [
    "## Response of Discrete LTI Systems to Complex Exponentials"
   ]
  },
  {
   "cell_type": "markdown",
   "metadata": {},
   "source": [
    "$$\\boxed{\\text{The response of a discrete LTI system to a complex exponential is the same complex exponential scaled by a constant.}}$$"
   ]
  },
  {
   "cell_type": "markdown",
   "metadata": {},
   "source": [
    "Why is this the case? Let the input $x[n]$ to a discrete LTI system be $z^n$, and let $h[n]$ be the system's impulse response. Then,\n",
    "\n",
    "$$y[n] = \\sum_{k=-\\infty}^{\\infty} x[n-k]h[k] = \\sum_{k=-\\infty}^{\\infty} z^{n-k}h[k] = \\left(\\sum_{k=-\\infty}^{\\infty} z^{-k}h[k]\\right)z^n $$"
   ]
  },
  {
   "cell_type": "markdown",
   "metadata": {},
   "source": [
    "The expression in parentheses, $\\sum_{k=-\\infty}^{\\infty} z^{-k}h[k]$, is the **transfer function** of our system, and is denoted as $H(z)$. Our output is our input, $z^n$, scaled by the transfer function."
   ]
  },
  {
   "cell_type": "markdown",
   "metadata": {},
   "source": [
    "Given our definition of convolution as $\\sum_{k=-\\infty}^{\\infty} x[k]h[n-k]$ in Notebook 1, you may be wondering why we instead started with $\\sum_{k=-\\infty}^{\\infty} x[n-k]h[k]$. There is in fact no difference, due to the **commutativity property** of convolution, which can be proved with a change of variables."
   ]
  },
  {
   "cell_type": "markdown",
   "metadata": {},
   "source": [
    "If $z = e^{j\\omega}$ ($x[n] = e^{j\\omega n}$), our input is a complex exponential. Then, $y[n] = H(e^{j\\omega})e^{j\\omega n}$. $H(e^{j\\omega}) = \\sum_{k=-\\infty}^{\\infty} e^{-j\\omega k}h[k]$ is called the **frequency response** of our system."
   ]
  },
  {
   "cell_type": "markdown",
   "metadata": {},
   "source": [
    "## Filtering"
   ]
  },
  {
   "cell_type": "markdown",
   "metadata": {},
   "source": [
    "A **filter** is a LTI system designed such that the frequency response $H(e^{j\\omega})$ is zero or close to zero for inputs with frequencies we'd like to eliminate."
   ]
  },
  {
   "cell_type": "markdown",
   "metadata": {},
   "source": [
    "![filters](filters.png)"
   ]
  },
  {
   "cell_type": "code",
   "execution_count": null,
   "metadata": {},
   "outputs": [],
   "source": []
  }
 ],
 "metadata": {
  "kernelspec": {
   "display_name": "Python 3",
   "language": "python",
   "name": "python3"
  },
  "language_info": {
   "codemirror_mode": {
    "name": "ipython",
    "version": 3
   },
   "file_extension": ".py",
   "mimetype": "text/x-python",
   "name": "python",
   "nbconvert_exporter": "python",
   "pygments_lexer": "ipython3",
   "version": "3.7.3"
  }
 },
 "nbformat": 4,
 "nbformat_minor": 4
}
