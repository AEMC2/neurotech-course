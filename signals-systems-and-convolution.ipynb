{
 "cells": [
  {
   "cell_type": "markdown",
   "metadata": {},
   "source": [
    "# Signals, Systems, and Convolution (CS 198-96: Intro to Neurotechnology)\n",
    "### v1 (Spring 2020) - Deven Navani\n",
    "\n",
    "This is a high-level but expansive introduction to signal processing basics. We have heavily biased this towards those looking to implement some form of signal processing in code right away. Therefore, this introduction is code-heavy."
   ]
  },
  {
   "cell_type": "markdown",
   "metadata": {},
   "source": [
    "## Signals"
   ]
  },
  {
   "cell_type": "markdown",
   "metadata": {},
   "source": [
    "It is convenient to think of **signals** as functions of $1$ or more variables. A speech signal, for example, is a function of time. Image signals are functions of two spatial variables ($x$ and $y$). Video signals are functions of $x$, $y$, and time. This guide will focus on signals that are functions of a single variable, time."
   ]
  },
  {
   "cell_type": "markdown",
   "metadata": {},
   "source": [
    "We have **discrete-time** signals and we have **continuous-time** signals. A continuous-time signal $x(t)$ depends on some real-valued time variable $t$ and a discrete-time signal $x[n]$ depends on some integer-valued variable $n$ that indexes instants of time. This guide will focus on discrete-time signals."
   ]
  },
  {
   "cell_type": "markdown",
   "metadata": {},
   "source": [
    "Discrete-time signals are sometimes inherently discrete (e.g. number of cars that pass through a tunnel every day). However, they can also be acquired by sampling continous-time signals. In this case, a discrete-time signal $x[n] = X(nT)$, where $1/T$ is the **sampling rate** at which the continuous-time signal $X(t)$ is sampled."
   ]
  },
  {
   "cell_type": "markdown",
   "metadata": {},
   "source": [
    "There are two special discrete-time signals that are useful to be familiar with:"
   ]
  },
  {
   "cell_type": "markdown",
   "metadata": {},
   "source": [
    "1. **Unit Impulse**: \n",
    "\n",
    "$$ \\delta[n] = \\begin{cases} \n",
    "      1 & n = 0 \\\\\n",
    "      0 & n \\neq 0 \n",
    "   \\end{cases}\n",
    "$$"
   ]
  },
  {
   "cell_type": "markdown",
   "metadata": {},
   "source": [
    "2. **Unit Step**: \n",
    "\n",
    "$$ u[n] = \\begin{cases} \n",
    "      1 & n \\geq 0 \\\\\n",
    "      0 & n < 0 \n",
    "   \\end{cases}\n",
    "$$"
   ]
  },
  {
   "cell_type": "code",
   "execution_count": 37,
   "metadata": {},
   "outputs": [
    {
     "data": {
      "text/plain": [
       "Text(0.5, 1.0, 'Test')"
      ]
     },
     "execution_count": 37,
     "metadata": {},
     "output_type": "execute_result"
    },
    {
     "data": {
      "image/png": "[encoded data removed]",
      "text/plain": [
       "<Figure size 432x288 with 1 Axes>"
      ]
     },
     "metadata": {
      "needs_background": "light"
     },
     "output_type": "display_data"
    }
   ],
   "source": [
    "from scipy import signal\n",
    "import numpy as np\n",
    "import matplotlib.pyplot as plt\n",
    "plt.stem(signal.unit_impulse(10), use_line_collection=True)\n",
    "plt.title(\"Test\")"
   ]
  },
  {
   "cell_type": "markdown",
   "metadata": {},
   "source": [
    "## Systems"
   ]
  },
  {
   "cell_type": "markdown",
   "metadata": {},
   "source": [
    "The definition of a **system** is farily straightforward: it is a process by which input signals are transformed to output signals. For a discrete-time system, we typically denote inputs as $x[n]$ and outputs as $y[n]$. In this notebook we will represent systems as $x[n] \\rightarrow y[n]$."
   ]
  },
  {
   "cell_type": "markdown",
   "metadata": {},
   "source": [
    "It is more useful, however, to discuss properties of systems."
   ]
  },
  {
   "cell_type": "markdown",
   "metadata": {},
   "source": [
    "### System Properties"
   ]
  },
  {
   "cell_type": "markdown",
   "metadata": {},
   "source": [
    "**1. Memory**\n",
    "\n",
    "A system is **memoryless** if its output at any given time depends on the input only at that time.\n",
    "\n",
    "**2. Causality**\n",
    "\n",
    "A system is **causal** if its output at any given time depends on the input only at that time and previous times, not future times.\n",
    "\n",
    "**3. Stability**\n",
    "\n",
    "A system is **stable** if all bounded inputs generate bounded outputs. This is known as **BIBO Stability**. Alternatively, a system is unstable if there exists a bounded input that produces an unbounded output.\n",
    "\n",
    "**4. Linearity**\n",
    "\n",
    "A system is **linear** if it satisfies two conditions:\n",
    "\n",
    "* *Scaling* - for any $x[n] \\rightarrow y[n]$ system and constant $a$, $ax[n] \\rightarrow ay[n]$\n",
    "* *Superposition* - for any two systems $x_1[n] \\rightarrow y_1[n]$ and $x_2[n] \\rightarrow y_2[n]$, $x_1[n] + x_2[n] \\rightarrow y_1[n] + y_2[n]$\n",
    "\n",
    "Here's a quick way to check if a system is not linear: give it an input of $0$. By the scaling property ($a=0$), if the output isn't $0$, the system isn't linear.\n",
    "\n",
    "**5. Time-Invariance**\n",
    "\n",
    "A system is **time-invariant** if a time shift in the input causes the identical time shift in the output:\n",
    "\n",
    "$$x[n-N] \\rightarrow y[n-N]$$\n",
    "\n",
    "A good way to think about time-invariance is to ask yourself whether the rule for generating the output changes with time. If it doesn't, your system is time-invariant."
   ]
  },
  {
   "cell_type": "markdown",
   "metadata": {},
   "source": [
    "## Linear Time-Invariant (LTI) Systems and Convolution"
   ]
  },
  {
   "cell_type": "markdown",
   "metadata": {},
   "source": [
    "LTI systems are, yes, linear and time-invariant. We care about LTI systems because they have a remarkable property: the **impulse response** (denoted $h[n]$), which is the system's response to the unit impulse \\\\(\\delta[n]\\\\), is *all we need* to determine the system's response to any other input."
   ]
  },
  {
   "cell_type": "markdown",
   "metadata": {},
   "source": [
    "It is important to understand why this is true. Firstly, we can rewrite the input to the system as such:\n",
    "\n",
    "$$x[n] = \\sum_{k=-\\infty}^{\\infty} x[k]\\delta[n-k]$$"
   ]
  },
  {
   "cell_type": "markdown",
   "metadata": {},
   "source": [
    "Assume our system is linear and time-invariant. Because of the superposition property of linear systems, we can calculate the output $y[n]$ of our system by determining the output for each input $x[k]\\delta[n-k]$ and adding all these outputs."
   ]
  },
  {
   "cell_type": "markdown",
   "metadata": {},
   "source": [
    "By the scaling property of linear systems, to calculate the output for an input $x[k]\\delta[n-k]$, we can calulate the output for input $\\delta[n-k]$ and multiply by $x[k]$."
   ]
  },
  {
   "cell_type": "markdown",
   "metadata": {},
   "source": [
    "What is the output for input $\\delta[n-k]$? Because $\\delta[n] \\rightarrow h[n]$ (by definition), and because our system is time-invariant, $\\delta[n-k] \\rightarrow h[n-k]$."
   ]
  },
  {
   "cell_type": "markdown",
   "metadata": {},
   "source": [
    "Therefore, $x[k]\\delta[n-k] \\rightarrow x[k]h[n-k]$. We can now write our output as such:"
   ]
  },
  {
   "cell_type": "markdown",
   "metadata": {},
   "source": [
    "$$y[n] = \\sum_{k=-\\infty}^{\\infty} x[k]h[n-k]$$"
   ]
  },
  {
   "cell_type": "markdown",
   "metadata": {},
   "source": [
    "As you can see, all we need to determine our output is the input signal and impulse response. The operation on the right is called the **convolution** of signals $x$ and $h$."
   ]
  },
  {
   "cell_type": "code",
   "execution_count": null,
   "metadata": {},
   "outputs": [],
   "source": []
  }
 ],
 "metadata": {
  "kernelspec": {
   "display_name": "Python 3",
   "language": "python",
   "name": "python3"
  },
  "language_info": {
   "codemirror_mode": {
    "name": "ipython",
    "version": 3
   },
   "file_extension": ".py",
   "mimetype": "text/x-python",
   "name": "python",
   "nbconvert_exporter": "python",
   "pygments_lexer": "ipython3",
   "version": "3.7.3"
  }
 },
 "nbformat": 4,
 "nbformat_minor": 4
}
